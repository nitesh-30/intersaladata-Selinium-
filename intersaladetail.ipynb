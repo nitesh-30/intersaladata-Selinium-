{
 "cells": [
  {
   "cell_type": "code",
   "execution_count": 1,
   "id": "ed948543",
   "metadata": {},
   "outputs": [
    {
     "name": "stdout",
     "output_type": "stream",
     "text": [
      "Requirement already satisfied: selenium in c:\\users\\nitesh\\anaconda3\\ano\\lib\\site-packages (4.4.3)Note: you may need to restart the kernel to use updated packages.\n",
      "\n",
      "Requirement already satisfied: trio~=0.17 in c:\\users\\nitesh\\anaconda3\\ano\\lib\\site-packages (from selenium) (0.21.0)\n",
      "Requirement already satisfied: urllib3[socks]~=1.26 in c:\\users\\nitesh\\anaconda3\\ano\\lib\\site-packages (from selenium) (1.26.9)\n",
      "Requirement already satisfied: certifi>=2021.10.8 in c:\\users\\nitesh\\anaconda3\\ano\\lib\\site-packages (from selenium) (2021.10.8)\n",
      "Requirement already satisfied: trio-websocket~=0.9 in c:\\users\\nitesh\\anaconda3\\ano\\lib\\site-packages (from selenium) (0.9.2)\n",
      "Requirement already satisfied: sniffio in c:\\users\\nitesh\\anaconda3\\ano\\lib\\site-packages (from trio~=0.17->selenium) (1.2.0)\n",
      "Requirement already satisfied: idna in c:\\users\\nitesh\\anaconda3\\ano\\lib\\site-packages (from trio~=0.17->selenium) (3.3)\n",
      "Requirement already satisfied: outcome in c:\\users\\nitesh\\anaconda3\\ano\\lib\\site-packages (from trio~=0.17->selenium) (1.2.0)\n",
      "Requirement already satisfied: cffi>=1.14 in c:\\users\\nitesh\\anaconda3\\ano\\lib\\site-packages (from trio~=0.17->selenium) (1.15.0)\n",
      "Requirement already satisfied: attrs>=19.2.0 in c:\\users\\nitesh\\anaconda3\\ano\\lib\\site-packages (from trio~=0.17->selenium) (21.4.0)\n",
      "Requirement already satisfied: async-generator>=1.9 in c:\\users\\nitesh\\anaconda3\\ano\\lib\\site-packages (from trio~=0.17->selenium) (1.10)\n",
      "Requirement already satisfied: sortedcontainers in c:\\users\\nitesh\\anaconda3\\ano\\lib\\site-packages (from trio~=0.17->selenium) (2.4.0)\n",
      "Requirement already satisfied: pycparser in c:\\users\\nitesh\\anaconda3\\ano\\lib\\site-packages (from cffi>=1.14->trio~=0.17->selenium) (2.21)\n",
      "Requirement already satisfied: wsproto>=0.14 in c:\\users\\nitesh\\anaconda3\\ano\\lib\\site-packages (from trio-websocket~=0.9->selenium) (1.2.0)\n",
      "Requirement already satisfied: PySocks!=1.5.7,<2.0,>=1.5.6 in c:\\users\\nitesh\\anaconda3\\ano\\lib\\site-packages (from urllib3[socks]~=1.26->selenium) (1.7.1)\n",
      "Requirement already satisfied: h11<1,>=0.9.0 in c:\\users\\nitesh\\anaconda3\\ano\\lib\\site-packages (from wsproto>=0.14->trio-websocket~=0.9->selenium) (0.13.0)\n"
     ]
    }
   ],
   "source": [
    "pip install selenium\n"
   ]
  },
  {
   "cell_type": "code",
   "execution_count": 139,
   "id": "6d93141c",
   "metadata": {},
   "outputs": [],
   "source": [
    "import csv"
   ]
  },
  {
   "cell_type": "code",
   "execution_count": 2,
   "id": "695bbf21",
   "metadata": {},
   "outputs": [],
   "source": [
    "from selenium . webdriver.common.by import By"
   ]
  },
  {
   "cell_type": "code",
   "execution_count": 3,
   "id": "4b7befd2",
   "metadata": {},
   "outputs": [],
   "source": [
    "from selenium import webdriver"
   ]
  },
  {
   "cell_type": "code",
   "execution_count": 124,
   "id": "ab7faba4",
   "metadata": {},
   "outputs": [
    {
     "name": "stderr",
     "output_type": "stream",
     "text": [
      "C:\\Users\\nitesh\\AppData\\Local\\Temp\\ipykernel_3276\\95779944.py:1: DeprecationWarning: executable_path has been deprecated, please pass in a Service object\n",
      "  driver=webdriver.Chrome(executable_path=\"E:/contact/chromedriver_win32/chromedriver.exe\")\n"
     ]
    }
   ],
   "source": [
    "driver=webdriver.Chrome(executable_path=\"E:/contact/chromedriver_win32/chromedriver.exe\")\n"
   ]
  },
  {
   "cell_type": "code",
   "execution_count": 114,
   "id": "da3df3d1",
   "metadata": {},
   "outputs": [],
   "source": [
    "driver.get(\"https://internshala.com/internships/\")"
   ]
  },
  {
   "cell_type": "code",
   "execution_count": 115,
   "id": "9063d493",
   "metadata": {},
   "outputs": [
    {
     "data": {
      "text/plain": [
       "'Internship | Summer Internship 2022 | Internship in India'"
      ]
     },
     "execution_count": 115,
     "metadata": {},
     "output_type": "execute_result"
    }
   ],
   "source": [
    "driver.title"
   ]
  },
  {
   "cell_type": "code",
   "execution_count": 116,
   "id": "0f049b05",
   "metadata": {},
   "outputs": [],
   "source": [
    "links=driver.find_elements(By.XPATH,\"//a[@class='view_detail_button']\")"
   ]
  },
  {
   "cell_type": "code",
   "execution_count": 117,
   "id": "9477cb4e",
   "metadata": {},
   "outputs": [
    {
     "data": {
      "text/plain": [
       "80"
      ]
     },
     "execution_count": 117,
     "metadata": {},
     "output_type": "execute_result"
    }
   ],
   "source": [
    "len(links)"
   ]
  },
  {
   "cell_type": "code",
   "execution_count": 118,
   "id": "13001f25",
   "metadata": {},
   "outputs": [
    {
     "name": "stdout",
     "output_type": "stream",
     "text": [
      "https://internshala.com/internship/detail/teaching-part-time-job-internship-at-multiple-locations-in-nerdy-academy1660664009\n"
     ]
    }
   ],
   "source": [
    "print(links[0].get_attribute(\"href\"))\n",
    "  \n",
    "    "
   ]
  },
  {
   "cell_type": "code",
   "execution_count": 119,
   "id": "45e068e6",
   "metadata": {},
   "outputs": [
    {
     "name": "stdout",
     "output_type": "stream",
     "text": [
      "[]\n"
     ]
    }
   ],
   "source": [
    "print(title)"
   ]
  },
  {
   "cell_type": "code",
   "execution_count": 85,
   "id": "ce94e734",
   "metadata": {},
   "outputs": [],
   "source": [
    "url=[]\n",
    "for l in links:\n",
    "    url.append(l.get_attribute(\"href\"))"
   ]
  },
  {
   "cell_type": "code",
   "execution_count": 152,
   "id": "6bfea612",
   "metadata": {},
   "outputs": [],
   "source": [
    "alldetail=[]\n",
    "row=[]\n",
    "loaction=[]\n",
    "for i in url:\n",
    "   \n",
    "    driver.get(i)\n",
    "    name=driver.find_element(By.XPATH,\"//div[@class='heading_4_5 profile']\").text\n",
    "    price=driver.find_element(By.XPATH,\"//span[@class='stipend']\").text\n",
    "    opening=driver.find_element(By.XPATH,\"//div[@class='text-container'][2]\").text\n",
    "    about=driver.find_element(By.XPATH,\"//div[@class='text-container'][1]\").text\n",
    "    detail=driver.find_element(By.XPATH,\"//div[@class='text-container about_company_text_container']\").text\n",
    "    skill=[]\n",
    "    s=driver.find_elements(By.XPATH,\"//div[@class='round_tabs_container'][1]/span\")\n",
    "    for j in s:\n",
    "        skill.append(j.text)\n",
    "    l=driver.find_elements(By.XPATH,\"//div[@id='location_names']/span/a\")\n",
    "    for k in l:\n",
    "        location.append(k.text)\n",
    "    row=[name,price,opening,about,detail,skill,location]\n",
    "    location=[]\n",
    "    alldetail.append(row)\n",
    "    row=[]\n",
    "    \n",
    "    "
   ]
  },
  {
   "cell_type": "code",
   "execution_count": 120,
   "id": "07d54756",
   "metadata": {},
   "outputs": [],
   "source": [
    "for i in url:\n",
    "    driver.get(i)\n",
    "    driver.find_element(By.XPATH,\"//div[@class='heading_4_5 profile']\").text"
   ]
  },
  {
   "cell_type": "code",
   "execution_count": 125,
   "id": "3fd6a9b5",
   "metadata": {},
   "outputs": [],
   "source": [
    "driver.get(\"https://internshala.com/internship/detail/mobile-app-development-internship-in-delhi-noida-at-flurt-network1661606261\")"
   ]
  },
  {
   "cell_type": "code",
   "execution_count": 126,
   "id": "342262cb",
   "metadata": {},
   "outputs": [],
   "source": [
    "skill=[]\n",
    "s=driver.find_elements(By.XPATH,\"//div[@class='round_tabs_container'][1]/span\")\n",
    "for j in s:\n",
    "    skill.append(j.text)"
   ]
  },
  {
   "cell_type": "code",
   "execution_count": 127,
   "id": "0f0c8d4f",
   "metadata": {},
   "outputs": [
    {
     "data": {
      "text/plain": [
       "['Computer Networking', 'JavaScript', 'React Native', 'Redux']"
      ]
     },
     "execution_count": 127,
     "metadata": {},
     "output_type": "execute_result"
    }
   ],
   "source": [
    "skill"
   ]
  },
  {
   "cell_type": "code",
   "execution_count": 131,
   "id": "e21d7d83",
   "metadata": {},
   "outputs": [],
   "source": [
    "location =[]\n",
    "l=driver.find_elements(By.XPATH,\"//div[@id='location_names']/span/a\")\n",
    "for k in l:\n",
    "    location.append(k.text)"
   ]
  },
  {
   "cell_type": "code",
   "execution_count": 132,
   "id": "85c80590",
   "metadata": {},
   "outputs": [
    {
     "name": "stdout",
     "output_type": "stream",
     "text": [
      "['Delhi', 'Noida']\n"
     ]
    }
   ],
   "source": [
    "print(location)"
   ]
  },
  {
   "cell_type": "code",
   "execution_count": 153,
   "id": "5cf023a7",
   "metadata": {},
   "outputs": [],
   "source": [
    "headercsv=['Title','Price','Opening','About','Detail','Skill','Location']"
   ]
  },
  {
   "cell_type": "code",
   "execution_count": 155,
   "id": "6a708f2b",
   "metadata": {},
   "outputs": [],
   "source": [
    "with open(\"intersala.csv\",'w',newline=\"\",encoding='utf-8')as file:\n",
    "     writer=csv.writer(file)\n",
    "     writer.writerow(headercsv)\n",
    "     writer.writerows(alldetail)"
   ]
  },
  {
   "cell_type": "code",
   "execution_count": null,
   "id": "6259103c",
   "metadata": {},
   "outputs": [],
   "source": []
  }
 ],
 "metadata": {
  "kernelspec": {
   "display_name": "Python 3 (ipykernel)",
   "language": "python",
   "name": "python3"
  },
  "language_info": {
   "codemirror_mode": {
    "name": "ipython",
    "version": 3
   },
   "file_extension": ".py",
   "mimetype": "text/x-python",
   "name": "python",
   "nbconvert_exporter": "python",
   "pygments_lexer": "ipython3",
   "version": "3.9.12"
  }
 },
 "nbformat": 4,
 "nbformat_minor": 5
}
